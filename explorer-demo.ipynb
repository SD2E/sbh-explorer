{
 "cells": [
  {
   "cell_type": "code",
   "execution_count": null,
   "metadata": {},
   "outputs": [],
   "source": [
    "import sys\n",
    "import logging\n",
    "\n",
    "# Import Interactive Widgets for Jupyter Notebook (https://github.com/jupyter-widgets/ipywidgets)\n",
    "# See https://ipywidgets.readthedocs.io for documentation on ui widgets\n",
    "from ipywidgets import widgets\n",
    "\n",
    "logging.root.level = logging.WARNING\n",
    "# logging.root.level = logging.INFO"
   ]
  },
  {
   "cell_type": "code",
   "execution_count": null,
   "metadata": {},
   "outputs": [],
   "source": [
    "# Upgrade pip because sbh-explorer requires version 18+ to process the synbiohub_adapter dependency\n",
    "try:\n",
    "    import pip\n",
    "    pip_major = int(pip.__version__.split('.')[0])\n",
    "    # Need pip to be at least version 18 to have PEP 508 dependency management URLs\n",
    "    if pip_major < 18:\n",
    "        raise ImportError()\n",
    "except ImportError:\n",
    "    # Install the dictionary writer library\n",
    "    !{sys.executable} -m pip install --user --upgrade pip"
   ]
  },
  {
   "cell_type": "code",
   "execution_count": null,
   "metadata": {},
   "outputs": [],
   "source": [
    "# Import SD2 Dictionary Writer, installing if necessary\n",
    "try:\n",
    "    from sd2_dictionary.sd2_dictionary_writer import SD2DictionaryWriter\n",
    "except ImportError:\n",
    "    # Install the dictionary writer library\n",
    "    !{sys.executable} -m pip install --user --upgrade git+https://github.com/SD2E/sbol-dictionary-writer\n",
    "    from sd2_dictionary.sd2_dictionary_writer import SD2DictionaryWriter"
   ]
  },
  {
   "cell_type": "code",
   "execution_count": null,
   "metadata": {},
   "outputs": [],
   "source": [
    "# Install sbh-explorer\n",
    "# !{sys.executable} -m pip install --user --upgrade git+https://github.com/SD2E/sbh-explorer@package"
   ]
  },
  {
   "cell_type": "code",
   "execution_count": null,
   "metadata": {},
   "outputs": [],
   "source": [
    "import synbiohub_adapter as sbha\n",
    "import sbh_explorer as sbhe"
   ]
  },
  {
   "cell_type": "code",
   "execution_count": null,
   "metadata": {},
   "outputs": [],
   "source": [
    "# This may require authorization via google to get access to the google sheet representing the dictionary\n",
    "\n",
    "dictionaryWriter = SD2DictionaryWriter(console=True)"
   ]
  },
  {
   "cell_type": "code",
   "execution_count": null,
   "metadata": {},
   "outputs": [],
   "source": [
    "def make_filter():\n",
    "    attrs = dictionaryWriter.dictionary.type_tabs.keys()\n",
    "    attr_select = widgets.Dropdown(\n",
    "        options=attrs,\n",
    "        description='with '\n",
    "    )\n",
    "    hbox = widgets.HBox((attr_select, widgets.Label('[specialized]')))\n",
    "    return hbox\n",
    "\n",
    "def make_widgets():\n",
    "    widget_box = widgets.VBox()\n",
    "\n",
    "    sbh_types = dictionaryWriter.dictionary.type_tabs.keys()\n",
    "    type_select = widgets.Dropdown(\n",
    "        options=sbh_types,\n",
    "        description='Look for '\n",
    "    )\n",
    "\n",
    "    add_filter = widgets.Button(\n",
    "        disabled=False,\n",
    "        button_style='', # 'success', 'info', 'warning', 'danger' or ''\n",
    "        tooltip='Add a filter',\n",
    "        icon='plus'\n",
    "    )\n",
    "    \n",
    "    def add_filter_clicked(b):\n",
    "        children = widget_box.children[:-1]\n",
    "        add_btn = (widget_box.children[-1],)\n",
    "        filter_box = make_filter()\n",
    "        widget_box.children = children + (filter_box,) + add_btn\n",
    "\n",
    "    add_filter.on_click(add_filter_clicked)\n",
    "    widget_box.children = (widgets.HBox((type_select,)), add_filter)\n",
    "    return widget_box\n",
    "\n",
    "widget_box = make_widgets()\n",
    "display(widget_box)"
   ]
  },
  {
   "cell_type": "code",
   "execution_count": null,
   "metadata": {},
   "outputs": [],
   "source": [
    "# Dig the values out of the widgets above\n",
    "\n",
    "look_for = widget_box.children[0].children[0].value\n",
    "print('Looking for {}'.format(look_for))\n",
    "for hbox in widget_box.children[1:-1]:\n",
    "    attr = hbox.children[0].value\n",
    "    print('with {}'.format(attr))"
   ]
  },
  {
   "cell_type": "code",
   "execution_count": null,
   "metadata": {},
   "outputs": [],
   "source": [
    "# Authenticate to SynBioHub\n",
    "\n",
    "# Adjust these values as needed\n",
    "SBH_USER = 'scott'\n",
    "SBH_PASSWORD = 'tiger'\n",
    "\n",
    "sbh_query = sbha.SynBioHubQuery(sbha.SD2Constants.SD2_SERVER)\n",
    "sbh_query.login(SBH_USER, SBH_PASSWORD)"
   ]
  },
  {
   "cell_type": "markdown",
   "metadata": {},
   "source": [
    "# Upward Traversal"
   ]
  },
  {
   "cell_type": "code",
   "execution_count": null,
   "metadata": {},
   "outputs": [],
   "source": [
    "mds = sbhe.parent_module_definitions(sbh_query, 'https://hub.sd2e.org/user/sd2e/design/UWBF_5783/1')\n",
    "for md in mds:\n",
    "    display(md)\n",
    "    display(sbhe.parent_module_definitions(sbh_query, md))"
   ]
  },
  {
   "cell_type": "code",
   "execution_count": null,
   "metadata": {},
   "outputs": [],
   "source": [
    "# Test for genetic construct\n",
    "mds = sbhe.parent_module_definitions(sbh_query, 'https://hub.sd2e.org/user/sd2e/design/YG_plasmid_002/1')\n",
    "for md in mds:\n",
    "    display(md)\n",
    "    display(sbhe.parent_module_definitions(sbh_query, md))"
   ]
  },
  {
   "cell_type": "markdown",
   "metadata": {},
   "source": [
    "# Downward traversal"
   ]
  },
  {
   "cell_type": "code",
   "execution_count": null,
   "metadata": {},
   "outputs": [],
   "source": [
    "uri = 'https://hub.sd2e.org/user/sd2e/experiment_test/experiment0x2etranscriptic0x2er1c7cpvfzqprk_r1c7fbvba55db_group_2/1'\n",
    "# uri = 'https://hub.sd2e.org/user/sd2e/experiment_test/experiment0x2euw_biofab0x2e10843_group_2/1'\n",
    "children = sbhe.child_module_definitions(sbh_query, uri)\n",
    "children"
   ]
  },
  {
   "cell_type": "code",
   "execution_count": null,
   "metadata": {},
   "outputs": [],
   "source": [
    "for child in children:\n",
    "    print(child)\n",
    "    print('Child Module Definitions')\n",
    "    print(sbhe.child_module_definitions(sbh_query, child))\n",
    "    print('Child Component Definitions')\n",
    "    child_cds = sbhe.child_component_definitions(sbh_query, child)\n",
    "    print(child_cds)\n",
    "    for cd in child_cds:\n",
    "        display(sbhe.subject_info(sbh_query, cd))\n"
   ]
  },
  {
   "cell_type": "code",
   "execution_count": null,
   "metadata": {
    "scrolled": true
   },
   "outputs": [],
   "source": [
    "strain_uri = 'https://hub.sd2e.org/user/sd2e/design/UWBF_5783/1'\n",
    "strain_uri = 'https://hub.sd2e.org/user/sd2e/design/UWBF_16967/1'\n",
    "strain_uri = 'https://hub.sd2e.org/user/sd2e/design/NEB_10_beta_pAN3928_pAN4036_Larabinose_aTc_IPTG_system/1'\n",
    "strain_uri = 'https://hub.sd2e.org/user/sd2e/design/CY9680x2DCY662int/1'\n",
    "strain_uri = 'https://hub.sd2e.org/user/sd2e/design/UWBF_5783_Network/1'\n",
    "sbhe.subject_info(sbh_query, strain_uri)"
   ]
  },
  {
   "cell_type": "code",
   "execution_count": null,
   "metadata": {},
   "outputs": [],
   "source": [
    "sbhe.module_is_strain(sbh_query, 'https://hub.sd2e.org/user/sd2e/design/UWBF_5783/1')"
   ]
  },
  {
   "cell_type": "code",
   "execution_count": null,
   "metadata": {},
   "outputs": [],
   "source": [
    "sbhe.module_is_strain(sbh_query, 'https://hub.sd2e.org/user/sd2e/design/UWBF_5783_Network/1')"
   ]
  },
  {
   "cell_type": "code",
   "execution_count": null,
   "metadata": {
    "scrolled": true
   },
   "outputs": [],
   "source": [
    "# Look for parents of a given URI, then find strains within each of those\n",
    "# This is the \"used with\" query\n",
    "uri = 'https://hub.sd2e.org/user/sd2e/design/UWBF_5783/1'\n",
    "uri = 'https://hub.sd2e.org/user/sd2e/design/CAT_R459942/1'\n",
    "uri = 'https://hub.sd2e.org/user/sd2e/design/UWBF_5783_Network/1'\n",
    "ancestors = list(sbhe.parent_module_definitions(sbh_query, uri))\n",
    "roots = []\n",
    "print(ancestors)\n",
    "while ancestors:\n",
    "    parent = ancestors.pop(0)\n",
    "    print('Parent: {}'.format(parent))\n",
    "    parents = sbhe.parent_module_definitions(sbh_query, parent)\n",
    "    print('Found {} ancestors'.format(len(parents)))\n",
    "    if not parents:\n",
    "        roots.append(parent)\n",
    "    ancestors.extend(parents)\n",
    "    \n",
    "for root in roots:\n",
    "    strains = sbhe.find_contained_strains(sbh_query, root)\n",
    "    print('{} strains: {}'.format(root, strains))"
   ]
  },
  {
   "cell_type": "code",
   "execution_count": null,
   "metadata": {},
   "outputs": [],
   "source": [
    "sbhe.find_contained_strains(sbh_query, 'https://hub.sd2e.org/user/sd2e/experiment_test/experiment0x2etranscriptic0x2er1bbq4mr76ngd_group_2/1')"
   ]
  },
  {
   "cell_type": "code",
   "execution_count": null,
   "metadata": {},
   "outputs": [],
   "source": []
  }
 ],
 "metadata": {
  "kernelspec": {
   "display_name": "Python 3",
   "language": "python",
   "name": "python3"
  },
  "language_info": {
   "codemirror_mode": {
    "name": "ipython",
    "version": 3
   },
   "file_extension": ".py",
   "mimetype": "text/x-python",
   "name": "python",
   "nbconvert_exporter": "python",
   "pygments_lexer": "ipython3",
   "version": "3.6.6"
  }
 },
 "nbformat": 4,
 "nbformat_minor": 2
}
