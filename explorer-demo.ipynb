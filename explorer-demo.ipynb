{
 "cells": [
  {
   "cell_type": "code",
   "execution_count": null,
   "metadata": {},
   "outputs": [],
   "source": [
    "# Enter the sd2e SynBioHub password\n",
    "SBH_USER = 'sd2e'\n",
    "SBH_PASSWORD = 'INSERT_PASSWORD'"
   ]
  },
  {
   "cell_type": "code",
   "execution_count": null,
   "metadata": {},
   "outputs": [],
   "source": [
    "import sys\n",
    "import logging\n",
    "\n",
    "logging.root.level = logging.WARNING\n",
    "# logging.root.level = logging.INFO"
   ]
  },
  {
   "cell_type": "code",
   "execution_count": null,
   "metadata": {},
   "outputs": [],
   "source": [
    "# Upgrade pip because sbh-explorer requires version 18+ to process the synbiohub_adapter dependency\n",
    "try:\n",
    "    import pip\n",
    "    pip_major = int(pip.__version__.split('.')[0])\n",
    "    # Need pip to be at least version 18 to have PEP 508 dependency management URLs\n",
    "    if pip_major < 18:\n",
    "        raise ImportError()\n",
    "except ImportError:\n",
    "    # Install the dictionary writer library\n",
    "    !{sys.executable} -m pip install --user --upgrade pip"
   ]
  },
  {
   "cell_type": "code",
   "execution_count": null,
   "metadata": {},
   "outputs": [],
   "source": [
    "# Install sbh-explorer\n",
    "!{sys.executable} -m pip install --user --upgrade git+https://github.com/SD2E/sbh-explorer"
   ]
  },
  {
   "cell_type": "code",
   "execution_count": null,
   "metadata": {},
   "outputs": [],
   "source": [
    "import synbiohub_adapter as sbha\n",
    "import sbh_explorer as sbhe"
   ]
  },
  {
   "cell_type": "code",
   "execution_count": null,
   "metadata": {},
   "outputs": [],
   "source": [
    "# Authenticate to SynBioHub\n",
    "\n",
    "sbh_query = sbha.SynBioHubQuery(sbha.SD2Constants.SD2_SERVER)\n",
    "sbh_query.login(SBH_USER, SBH_PASSWORD)"
   ]
  },
  {
   "cell_type": "markdown",
   "metadata": {},
   "source": [
    "# Upward Traversal\n",
    "Walk up the graph to find what contains a given URI"
   ]
  },
  {
   "cell_type": "code",
   "execution_count": null,
   "metadata": {},
   "outputs": [],
   "source": [
    "# Find what contains a plasmid\n",
    "uri = 'https://hub.sd2e.org/user/sd2e/design/YG_plasmid_018/1'\n",
    "#uri = 'https://hub.sd2e.org/user/sd2e/design/YG_plasmid_002/1'\n",
    "\n",
    "# Display immediate parent ModuleDefinitions\n",
    "print('Parents:')\n",
    "for parent in sorted(sbhe.parent_module_definitions(sbh_query, uri)):\n",
    "      print('  ', parent)\n",
    "print('')\n",
    "\n",
    "# Display ancestors that have no parent Module, the top of the line\n",
    "print('Roots:')\n",
    "for root in sorted(sbhe.root_module_definitions(sbh_query, uri)):\n",
    "    print('  ', root)"
   ]
  },
  {
   "cell_type": "code",
   "execution_count": null,
   "metadata": {},
   "outputs": [],
   "source": [
    "# Find what contains a strain\n",
    "uri = 'https://hub.sd2e.org/user/sd2e/design/UWBF_5783/1'\n",
    "# uri = 'https://hub.sd2e.org/user/sd2e/design/UWBF_5992/1'\n",
    "# uri = 'https://hub.sd2e.org/user/sd2e/design/UWBF_7377/1'\n",
    "# uri = 'https://hub.sd2e.org/user/sd2e/design/UWBF_7299/1'\n",
    "\n",
    "# Display immediate parent ModuleDefinitions\n",
    "print('Parents:')\n",
    "for parent in sorted(sbhe.parent_module_definitions(sbh_query, uri)):\n",
    "      print('  ', parent)\n",
    "print('')\n",
    "\n",
    "# Display ancestors that have no parent Module, the top of the line\n",
    "print('Roots:')\n",
    "for root in sorted(sbhe.root_module_definitions(sbh_query, uri)):\n",
    "    print('  ', root)"
   ]
  },
  {
   "cell_type": "markdown",
   "metadata": {},
   "source": [
    "# Downward traversal\n",
    "Walk down the graph to see what a URI contains"
   ]
  },
  {
   "cell_type": "code",
   "execution_count": null,
   "metadata": {},
   "outputs": [],
   "source": [
    "# Find what a strain contains\n",
    "\n",
    "uri = 'https://hub.sd2e.org/user/sd2e/design/UWBF_5783/1'\n",
    "# uri = 'https://hub.sd2e.org/user/sd2e/design/UWBF_5992/1'\n",
    "# uri = 'https://hub.sd2e.org/user/sd2e/design/UWBF_7377/1'\n",
    "\n",
    "# Display immediate child modules\n",
    "print('Child modules of', uri)\n",
    "for child in sorted(sbhe.child_module_definitions(sbh_query, uri)):\n",
    "    print('  ', child)\n",
    "\n",
    "# Display immediate child components\n",
    "print('')\n",
    "print('Child components of', uri)\n",
    "for child in sorted(sbhe.child_component_definitions(sbh_query, uri)):\n",
    "    print('  ', child)"
   ]
  },
  {
   "cell_type": "markdown",
   "metadata": {},
   "source": [
    "# Finding contained types"
   ]
  },
  {
   "cell_type": "code",
   "execution_count": null,
   "metadata": {
    "scrolled": true
   },
   "outputs": [],
   "source": [
    "# Find strains and reagents contained in a given URI\n",
    "\n",
    "# uri = 'https://hub.sd2e.org/user/sd2e/experiment_test/experiment0x2euw_biofab0x2e17026_group_2/1'\n",
    "uri = 'https://hub.sd2e.org/user/sd2e/experiment_test/experiment0x2euw_biofab0x2e18527_group_1/1'\n",
    "\n",
    "# Display contained strains\n",
    "print('Strains contained in', uri)\n",
    "for strain in sorted(sbhe.find_contained_strains(sbh_query, uri)):\n",
    "    print('  ', strain)\n",
    "\n",
    "print('')\n",
    "\n",
    "# Display contained reagents\n",
    "print('Reagents contained in', uri)\n",
    "for reagent in sorted(sbhe.find_contained_reagents(sbh_query, uri)):\n",
    "    print('  ', reagent)"
   ]
  },
  {
   "cell_type": "code",
   "execution_count": null,
   "metadata": {},
   "outputs": [],
   "source": [
    "# Customize the search with a user-defined predicate\n",
    "\n",
    "uri = 'https://hub.sd2e.org/user/sd2e/design/UWBF_5783/1'\n",
    "\n",
    "# Find all ComponentDefinitions and ModuleDefinitions\n",
    "print('Everything contained in', uri)\n",
    "def true_predicate(sbh_query, uri):\n",
    "    \"\"\"This predicate returns True for everything\"\"\"\n",
    "    return True\n",
    "\n",
    "for item in sorted(sbhe.find_contained_items(sbh_query, uri, true_predicate)):\n",
    "    print('  ', item)\n",
    "\n",
    "# Use a custom predicate to find only some contained items\n",
    "print('')\n",
    "print('Custom search in', uri)\n",
    "def is_my_plasmid(sbh_query, uri):\n",
    "    \"\"\"This predicate looks for YG_plasmid_01*\"\"\"\n",
    "    return uri.startswith('https://hub.sd2e.org/user/sd2e/design/YG_plasmid_01')\n",
    "\n",
    "for item in sorted(sbhe.find_contained_items(sbh_query, uri, is_my_plasmid)):\n",
    "    print('  ', item)"
   ]
  },
  {
   "cell_type": "markdown",
   "metadata": {},
   "source": [
    "# Putting it together"
   ]
  },
  {
   "cell_type": "code",
   "execution_count": null,
   "metadata": {},
   "outputs": [],
   "source": [
    "# Find strains used with a plasmid\n",
    "\n",
    "uri = 'https://hub.sd2e.org/user/sd2e/design/YG_plasmid_018/1'\n",
    "print('Finding root module definitions, this might take a while...')\n",
    "root_mds = sbhe.root_module_definitions(sbh_query, uri)\n",
    "print('Found %d root module definitions' % (len(root_mds)))\n",
    "\n",
    "# Search each root to find strains used with this URI\n",
    "all_strains = set()\n",
    "for root in sorted(root_mds):\n",
    "    print('Strains in', root)\n",
    "    for strain in sorted(sbhe.find_contained_strains(sbh_query, root)):\n",
    "        print('  ', strain)\n",
    "        all_strains.add(strain)\n",
    "    print('')\n",
    "\n",
    "print('--------------------------------------------------')\n",
    "print(uri, 'is used with strains:')\n",
    "for strain in sorted(all_strains):\n",
    "    print('  ', strain)"
   ]
  },
  {
   "cell_type": "code",
   "execution_count": null,
   "metadata": {},
   "outputs": [],
   "source": [
    "# Find reagents used with the given strain\n",
    "\n",
    "uri = 'https://hub.sd2e.org/user/sd2e/design/UWBF_5783/1'\n",
    "roots = sbhe.root_module_definitions(sbh_query, uri)\n",
    "print('Found %d root module definitions' % (len(roots)))\n",
    "reagents = []\n",
    "all_reagents = set()\n",
    "for root in roots:\n",
    "    print('Reagents in', root)\n",
    "    for reagent in sorted(sbhe.find_contained_reagents(sbh_query, root)):\n",
    "        print('  ', reagent)\n",
    "        all_reagents.add(reagent)\n",
    "    print('')\n",
    "\n",
    "print('--------------------------------------------------')\n",
    "print(uri, 'is used with reagents:')\n",
    "for reagent in sorted(all_reagents):\n",
    "    print('  ', reagent)"
   ]
  },
  {
   "cell_type": "markdown",
   "metadata": {},
   "source": [
    "# Getting Info about a URI"
   ]
  },
  {
   "cell_type": "code",
   "execution_count": null,
   "metadata": {
    "scrolled": true
   },
   "outputs": [],
   "source": [
    "uri = 'https://hub.sd2e.org/user/sd2e/design/UWBF_5783/1'\n",
    "\n",
    "import pandas as pd\n",
    "pd.DataFrame(sorted(sbhe.subject_info(sbh_query, uri)))"
   ]
  },
  {
   "cell_type": "markdown",
   "metadata": {},
   "source": [
    "# Debugging info"
   ]
  },
  {
   "cell_type": "code",
   "execution_count": null,
   "metadata": {},
   "outputs": [],
   "source": [
    "print('Cache Info')\n",
    "print('----------')\n",
    "print('parent_module_definitions:', sbhe.parent_module_definitions.cache_info())\n",
    "print('root_module_definitions:', sbhe.root_module_definitions.cache_info())\n",
    "print('child_module_definitions:', sbhe.child_module_definitions.cache_info())\n",
    "print('child_component_definitions:', sbhe.child_component_definitions.cache_info())\n",
    "print('module_is_strain:', sbhe.module_is_strain.cache_info())\n",
    "print('is_reagent:', sbhe.is_reagent.cache_info())\n",
    "print('find_contained_reagents:', sbhe.find_contained_reagents.cache_info())\n",
    "print('find_contained_strains:', sbhe.find_contained_strains.cache_info())"
   ]
  },
  {
   "cell_type": "code",
   "execution_count": null,
   "metadata": {},
   "outputs": [],
   "source": []
  }
 ],
 "metadata": {
  "kernelspec": {
   "display_name": "Python 3",
   "language": "python",
   "name": "python3"
  },
  "language_info": {
   "codemirror_mode": {
    "name": "ipython",
    "version": 3
   },
   "file_extension": ".py",
   "mimetype": "text/x-python",
   "name": "python",
   "nbconvert_exporter": "python",
   "pygments_lexer": "ipython3",
   "version": "3.6.6"
  }
 },
 "nbformat": 4,
 "nbformat_minor": 2
}
