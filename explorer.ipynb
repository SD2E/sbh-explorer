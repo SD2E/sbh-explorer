{
 "cells": [
  {
   "cell_type": "code",
   "execution_count": null,
   "metadata": {},
   "outputs": [],
   "source": [
    "# See http://sbolstandard.org/ontology/ for SBOL ontology information"
   ]
  },
  {
   "cell_type": "code",
   "execution_count": null,
   "metadata": {},
   "outputs": [],
   "source": [
    "import sys"
   ]
  },
  {
   "cell_type": "code",
   "execution_count": null,
   "metadata": {},
   "outputs": [],
   "source": [
    "# Import Interactive Widgets for Jupyter Notebook (https://github.com/jupyter-widgets/ipywidgets)\n",
    "# See https://ipywidgets.readthedocs.io for documentation on ui widgets\n",
    "from ipywidgets import widgets"
   ]
  },
  {
   "cell_type": "code",
   "execution_count": null,
   "metadata": {},
   "outputs": [],
   "source": [
    "try:\n",
    "    from sd2_dictionary.sd2_dictionary_writer import SD2DictionaryWriter\n",
    "except ImportError:\n",
    "    # Install the dictionary writer library\n",
    "    !{sys.executable} -m pip install --user --upgrade git+https://github.com/SD2E/sbol-dictionary-writer\n",
    "    from sd2_dictionary.sd2_dictionary_writer import SD2DictionaryWriter"
   ]
  },
  {
   "cell_type": "code",
   "execution_count": null,
   "metadata": {},
   "outputs": [],
   "source": [
    "# This may require authorization via google to get access to the google sheet representing the dictionary\n",
    "\n",
    "dictionaryWriter = SD2DictionaryWriter(console=True)"
   ]
  },
  {
   "cell_type": "code",
   "execution_count": null,
   "metadata": {},
   "outputs": [],
   "source": [
    "def make_filter():\n",
    "    attrs = dictionaryWriter.dictionary.type_tabs.keys()\n",
    "    attr_select = widgets.Dropdown(\n",
    "        options=attrs,\n",
    "        description='with '\n",
    "    )\n",
    "    hbox = widgets.HBox((attr_select, widgets.Label('[specialized]')))\n",
    "    return hbox\n",
    "\n",
    "def make_widgets():\n",
    "    widget_box = widgets.VBox()\n",
    "\n",
    "    sbh_types = dictionaryWriter.dictionary.type_tabs.keys()\n",
    "    type_select = widgets.Dropdown(\n",
    "        options=sbh_types,\n",
    "        description='Look for '\n",
    "    )\n",
    "\n",
    "    add_filter = widgets.Button(\n",
    "        disabled=False,\n",
    "        button_style='', # 'success', 'info', 'warning', 'danger' or ''\n",
    "        tooltip='Add a filter',\n",
    "        icon='plus'\n",
    "    )\n",
    "    \n",
    "    def add_filter_clicked(b):\n",
    "        children = widget_box.children[:-1]\n",
    "        add_btn = (widget_box.children[-1],)\n",
    "        filter_box = make_filter()\n",
    "        widget_box.children = children + (filter_box,) + add_btn\n",
    "\n",
    "    add_filter.on_click(add_filter_clicked)\n",
    "    widget_box.children = (widgets.HBox((type_select,)), add_filter)\n",
    "    return widget_box\n",
    "\n",
    "widget_box = make_widgets()\n",
    "display(widget_box)"
   ]
  },
  {
   "cell_type": "code",
   "execution_count": null,
   "metadata": {},
   "outputs": [],
   "source": [
    "# Dig the values out of the widgets above\n",
    "\n",
    "look_for = widget_box.children[0].children[0].value\n",
    "print('Looking for {}'.format(look_for))\n",
    "for hbox in widget_box.children[1:-1]:\n",
    "    attr = hbox.children[0].value\n",
    "    print('with {}'.format(attr))"
   ]
  },
  {
   "cell_type": "markdown",
   "metadata": {},
   "source": [
    "# Supporting Code"
   ]
  },
  {
   "cell_type": "code",
   "execution_count": null,
   "metadata": {
    "scrolled": true
   },
   "outputs": [],
   "source": [
    "try:\n",
    "    import synbiohub_adapter as sbha\n",
    "except ImportError:\n",
    "    # Install synbiohub\n",
    "    !{sys.executable} -m pip install --user --upgrade git+https://github.com/SD2E/synbiohub_adapter.git\n",
    "    import synbiohub_adapter as sbha\n",
    "\n",
    "\n",
    "# Functions and constants in synbiohub_adapter.explore are not\n",
    "# yet exported, so the package needs to be explicitly imported\n",
    "import synbiohub_adapter.explore as explore"
   ]
  },
  {
   "cell_type": "code",
   "execution_count": 11,
   "metadata": {},
   "outputs": [],
   "source": [
    "# Authenticate to SynBioHub\n",
    "\n",
    "# Adjust these values as needed\n",
    "SBH_USER = 'scott'\n",
    "SBH_PASSWORD = 'tiger'\n",
    "\n",
    "sbh_query = sbha.SynBioHubQuery(sbha.SD2Constants.SD2_SERVER)\n",
    "sbh_query.login(SBH_USER, SBH_PASSWORD)"
   ]
  },
  {
   "cell_type": "markdown",
   "metadata": {},
   "source": [
    "# Upward Traversal"
   ]
  },
  {
   "cell_type": "code",
   "execution_count": null,
   "metadata": {},
   "outputs": [],
   "source": [
    "def parent_module_definitions(sbh_query, uri):\n",
    "    \"\"\"Find all the module definitions that contain this element. This\n",
    "    function does not recursively find grandparents, etc. It only goes\n",
    "    one level up via either a module or functionaComponent predicate.\n",
    "    \"\"\"\n",
    "    # First, gather module definitions found via an intervening \"Module\" node\n",
    "    modules = explore.subjects_for(sbh_query, explore.SBOL_DEFINITION, uri)\n",
    "    module_defs = [explore.subjects_for(sbh_query, explore.SBOL_MODULE, m) for m in modules]\n",
    "    result = set(md for md_list in module_defs for md in md_list)\n",
    "    # Second, gather module definitions found via an intervening \"Functional Component\" node\n",
    "    functional_components = explore.subjects_for(sbh_query, explore.SBOL_DEFINITION, uri)\n",
    "    module_defs = [explore.subjects_for(sbh_query, explore.SBOL_FUNCTIONAL_COMPONENT, fc) for fc in functional_components]\n",
    "    result.update(set(md for md_list in module_defs for md in md_list))\n",
    "    return result"
   ]
  },
  {
   "cell_type": "code",
   "execution_count": null,
   "metadata": {},
   "outputs": [],
   "source": [
    "mds = parent_module_definitions(sbh_query, 'https://hub.sd2e.org/user/sd2e/design/UWBF_5783/1')\n",
    "for md in mds:\n",
    "    display(md)\n",
    "    display(parent_module_definitions(sbh_query, md))"
   ]
  },
  {
   "cell_type": "code",
   "execution_count": null,
   "metadata": {},
   "outputs": [],
   "source": [
    "# Test for genetic construct\n",
    "mds = parent_module_definitions(sbh_query, 'https://hub.sd2e.org/user/sd2e/design/YG_plasmid_002/1')\n",
    "for md in mds:\n",
    "    display(md)\n",
    "    display(parent_module_definitions(sbh_query, md))"
   ]
  },
  {
   "cell_type": "markdown",
   "metadata": {},
   "source": [
    "# Downward traversal"
   ]
  },
  {
   "cell_type": "code",
   "execution_count": null,
   "metadata": {},
   "outputs": [],
   "source": [
    "import logging\n",
    "logging.root.level = logging.INFO"
   ]
  },
  {
   "cell_type": "code",
   "execution_count": null,
   "metadata": {},
   "outputs": [],
   "source": [
    "# A wrapper with a better function name than \"o_query\"\n",
    "def objects_for(sbh_query, subj, pred):\n",
    "    return explore.o_query(sbh_query, subj, pred)\n",
    "\n",
    "# Introduce the function above to the explore module\n",
    "explore.objects_for = objects_for\n",
    "\n",
    "def child_module_definitions(sbh_query, uri):\n",
    "    \"\"\"Find all children that are module definitions\n",
    "    \"\"\"\n",
    "    # Gather module definitions found via an intervening \"Module\" node\n",
    "    modules = explore.objects_for(sbh_query, uri, explore.SBOL_MODULE)\n",
    "    \n",
    "    module_defs = [explore.objects_for(sbh_query, m, explore.SBOL_DEFINITION) for m in modules]\n",
    "    result = set(md for md_list in module_defs for md in md_list)\n",
    "    return result\n",
    "\n",
    "def child_component_definitions(sbh_query, uri):\n",
    "    \"\"\"Find all children that are component definitions.\n",
    "    \"\"\"\n",
    "    # Gather component definitions found via an intervening \"FunctionalComponent\" node\n",
    "    # uri --functionalComponent--> FunctionComponent --definition--> ComponentDefinition\n",
    "    fcs = explore.objects_for(sbh_query, uri, explore.SBOL_FUNCTIONAL_COMPONENT)\n",
    "    comp_defs = [explore.objects_for(sbh_query, fc, explore.SBOL_DEFINITION) for fc in fcs]\n",
    "    result = set(cd for cd_list in comp_defs for cd in cd_list)\n",
    "    return result\n"
   ]
  },
  {
   "cell_type": "code",
   "execution_count": null,
   "metadata": {},
   "outputs": [],
   "source": [
    "uri = 'https://hub.sd2e.org/user/sd2e/experiment_test/experiment0x2etranscriptic0x2er1c7cpvfzqprk_r1c7fbvba55db_group_2/1'\n",
    "uri = 'https://hub.sd2e.org/user/sd2e/experiment_test/experiment0x2euw_biofab0x2e10843_group_2/1'\n",
    "children = child_module_definitions(sbh_query, uri)\n",
    "children"
   ]
  },
  {
   "cell_type": "code",
   "execution_count": null,
   "metadata": {},
   "outputs": [],
   "source": [
    "for child in children:\n",
    "    print(child)\n",
    "    print('Child Module Definitions')\n",
    "    print(child_module_definitions(sbh_query, child))\n",
    "    print('Child Component Definitions')\n",
    "    child_cds = child_component_definitions(sbh_query, child)\n",
    "    print(child_cds)\n",
    "    for cd in child_cds:\n",
    "        display(explore.subject_info(sbh_query, cd))\n"
   ]
  },
  {
   "cell_type": "code",
   "execution_count": null,
   "metadata": {
    "scrolled": true
   },
   "outputs": [],
   "source": [
    "strain_uri = 'https://hub.sd2e.org/user/sd2e/design/UWBF_5783/1'\n",
    "strain_uri = 'https://hub.sd2e.org/user/sd2e/design/UWBF_16967/1'\n",
    "strain_uri = 'https://hub.sd2e.org/user/sd2e/design/NEB_10_beta_pAN3928_pAN4036_Larabinose_aTc_IPTG_system/1'\n",
    "strain_uri = 'https://hub.sd2e.org/user/sd2e/design/CY9680x2DCY662int/1'\n",
    "explore.subject_info(sbh_query, strain_uri)"
   ]
  },
  {
   "cell_type": "code",
   "execution_count": null,
   "metadata": {},
   "outputs": [],
   "source": []
  }
 ],
 "metadata": {
  "kernelspec": {
   "display_name": "Python 3",
   "language": "python",
   "name": "python3"
  },
  "language_info": {
   "codemirror_mode": {
    "name": "ipython",
    "version": 3
   },
   "file_extension": ".py",
   "mimetype": "text/x-python",
   "name": "python",
   "nbconvert_exporter": "python",
   "pygments_lexer": "ipython3",
   "version": "3.6.6"
  }
 },
 "nbformat": 4,
 "nbformat_minor": 2
}
